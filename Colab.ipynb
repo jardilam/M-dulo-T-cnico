{
 "cells": [
  {
   "cell_type": "code",
   "execution_count": 1,
   "metadata": {},
   "outputs": [],
   "source": [
    "import pandas as pd\n"
   ]
  },
  {
   "cell_type": "code",
   "execution_count": 2,
   "metadata": {},
   "outputs": [],
   "source": [
    "example = pd.read_csv(\"C:/Users/USUARIO/OneDrive/Desktop/Análisis de Datos/Módulo Técnico/example_ventas.csv\")"
   ]
  },
  {
   "cell_type": "code",
   "execution_count": 3,
   "metadata": {},
   "outputs": [
    {
     "name": "stdout",
     "output_type": "stream",
     "text": [
      "         Fecha   Region      Producto Vendedor         Ventas\n",
      "0   31/01/2024  Central    Accesorios    David    8,287.00 € \n",
      "1   01/02/2024  Central    Accesorios    Karen    6,909.00 € \n",
      "2   02/02/2024  Central  Dispositivos    David   11,420.00 € \n",
      "3   03/02/2024  Central  Dispositivos    Karen   12,948.00 € \n",
      "4   04/02/2024  Central      Sistemas    David   20,098.00 € \n",
      "5   05/02/2024  Central      Sistemas    Karen   30,633.00 € \n",
      "6   06/02/2024     Este    Accesorios      Ana    9,323.00 € \n",
      "7   07/02/2024     Este    Accesorios    Lucas    7,667.00 € \n",
      "8   08/02/2024     Este  Dispositivos      Ana   10,348.00 € \n",
      "9   09/02/2024     Este  Dispositivos    Lucas    9,312.00 € \n",
      "10  10/02/2024     Este      Sistemas      Ana   13,531.00 € \n",
      "11  11/02/2024     Este      Sistemas    Lucas   13,374.00 € \n",
      "12  12/02/2024    Oeste    Accesorios    Kevin    4,744.00 € \n",
      "13  13/02/2024    Oeste    Accesorios     Sara    5,442.00 € \n",
      "14  14/02/2024    Oeste  Dispositivos    Kevin   10,711.00 € \n",
      "15  15/02/2024    Oeste  Dispositivos     Sara    8,780.00 € \n",
      "16  16/02/2024    Oeste      Sistemas    Kevin   32,855.00 € \n",
      "17  17/02/2024    Oeste      Sistemas     Sara   23,151.00 € \n"
     ]
    }
   ],
   "source": [
    "print(example)"
   ]
  },
  {
   "cell_type": "code",
   "execution_count": 4,
   "metadata": {},
   "outputs": [
    {
     "name": "stdout",
     "output_type": "stream",
     "text": [
      "Ejercicio 1: Mostrar las primeras filas del DataFrame\n"
     ]
    },
    {
     "data": {
      "text/html": [
       "<div>\n",
       "<style scoped>\n",
       "    .dataframe tbody tr th:only-of-type {\n",
       "        vertical-align: middle;\n",
       "    }\n",
       "\n",
       "    .dataframe tbody tr th {\n",
       "        vertical-align: top;\n",
       "    }\n",
       "\n",
       "    .dataframe thead th {\n",
       "        text-align: right;\n",
       "    }\n",
       "</style>\n",
       "<table border=\"1\" class=\"dataframe\">\n",
       "  <thead>\n",
       "    <tr style=\"text-align: right;\">\n",
       "      <th></th>\n",
       "      <th>Fecha</th>\n",
       "      <th>Region</th>\n",
       "      <th>Producto</th>\n",
       "      <th>Vendedor</th>\n",
       "      <th>Ventas</th>\n",
       "    </tr>\n",
       "  </thead>\n",
       "  <tbody>\n",
       "    <tr>\n",
       "      <th>0</th>\n",
       "      <td>31/01/2024</td>\n",
       "      <td>Central</td>\n",
       "      <td>Accesorios</td>\n",
       "      <td>David</td>\n",
       "      <td>8,287.00 €</td>\n",
       "    </tr>\n",
       "    <tr>\n",
       "      <th>1</th>\n",
       "      <td>01/02/2024</td>\n",
       "      <td>Central</td>\n",
       "      <td>Accesorios</td>\n",
       "      <td>Karen</td>\n",
       "      <td>6,909.00 €</td>\n",
       "    </tr>\n",
       "    <tr>\n",
       "      <th>2</th>\n",
       "      <td>02/02/2024</td>\n",
       "      <td>Central</td>\n",
       "      <td>Dispositivos</td>\n",
       "      <td>David</td>\n",
       "      <td>11,420.00 €</td>\n",
       "    </tr>\n",
       "    <tr>\n",
       "      <th>3</th>\n",
       "      <td>03/02/2024</td>\n",
       "      <td>Central</td>\n",
       "      <td>Dispositivos</td>\n",
       "      <td>Karen</td>\n",
       "      <td>12,948.00 €</td>\n",
       "    </tr>\n",
       "    <tr>\n",
       "      <th>4</th>\n",
       "      <td>04/02/2024</td>\n",
       "      <td>Central</td>\n",
       "      <td>Sistemas</td>\n",
       "      <td>David</td>\n",
       "      <td>20,098.00 €</td>\n",
       "    </tr>\n",
       "  </tbody>\n",
       "</table>\n",
       "</div>"
      ],
      "text/plain": [
       "        Fecha   Region      Producto Vendedor         Ventas\n",
       "0  31/01/2024  Central    Accesorios    David    8,287.00 € \n",
       "1  01/02/2024  Central    Accesorios    Karen    6,909.00 € \n",
       "2  02/02/2024  Central  Dispositivos    David   11,420.00 € \n",
       "3  03/02/2024  Central  Dispositivos    Karen   12,948.00 € \n",
       "4  04/02/2024  Central      Sistemas    David   20,098.00 € "
      ]
     },
     "execution_count": 4,
     "metadata": {},
     "output_type": "execute_result"
    }
   ],
   "source": [
    "# Ejercicio 1: Mostrar las primeras filas del DataFrame\n",
    "print(\"Ejercicio 1: Mostrar las primeras filas del DataFrame\")\n",
    "example.head(5)"
   ]
  },
  {
   "cell_type": "code",
   "execution_count": 5,
   "metadata": {},
   "outputs": [
    {
     "name": "stdout",
     "output_type": "stream",
     "text": [
      "Ejercicio 2: Calcular el total de ventas por región\n",
      "Region\n",
      "Central    90295.0\n",
      "Este       63555.0\n",
      "Oeste      85683.0\n",
      "Name: Ventas, dtype: float64\n",
      "\n",
      "\n",
      "        Fecha   Region      Producto Vendedor   Ventas\n",
      "0  31/01/2024  Central    Accesorios    David   8287.0\n",
      "1  01/02/2024  Central    Accesorios    Karen   6909.0\n",
      "2  02/02/2024  Central  Dispositivos    David  11420.0\n",
      "3  03/02/2024  Central  Dispositivos    Karen  12948.0\n",
      "4  04/02/2024  Central      Sistemas    David  20098.0\n",
      "5  05/02/2024  Central      Sistemas    Karen  30633.0\n",
      "6  06/02/2024     Este    Accesorios      Ana   9323.0\n",
      "7  07/02/2024     Este    Accesorios    Lucas   7667.0\n",
      "8  08/02/2024     Este  Dispositivos      Ana  10348.0\n",
      "9  09/02/2024     Este  Dispositivos    Lucas   9312.0\n"
     ]
    }
   ],
   "source": [
    "# Ejercicio 2: Calcular el total de ventas por región\n",
    "\n",
    "print(\"Ejercicio 2: Calcular el total de ventas por región\")\n",
    "\n",
    "def limpiarVentas(text):\n",
    "    textLimpio = text.replace(\"€\", \"\").replace(\",\", \"\")\n",
    "    return pd.to_numeric(textLimpio)\n",
    "\n",
    "example[\"Ventas\"] = example[\"Ventas\"].apply(limpiarVentas)\n",
    "\n",
    "ventasPorRegion = example.groupby(\"Region\")[\"Ventas\"].sum()\n",
    "print(ventasPorRegion)\n",
    "print(\"\\n\")\n",
    "print(example.head(10))"
   ]
  },
  {
   "cell_type": "code",
   "execution_count": 6,
   "metadata": {},
   "outputs": [
    {
     "name": "stdout",
     "output_type": "stream",
     "text": [
      "Ejercicio 3: Filtrar el DataFrame para mostrar solo las ventas realizadas por David\n",
      "        Fecha   Region      Producto Vendedor   Ventas\n",
      "0  31/01/2024  Central    Accesorios    David   8287.0\n",
      "2  02/02/2024  Central  Dispositivos    David  11420.0\n",
      "4  04/02/2024  Central      Sistemas    David  20098.0\n"
     ]
    }
   ],
   "source": [
    "# Ejercicio 3: Filtrar el DataFrame para mostrar solo las ventas realizadas por David\n",
    "print(\"Ejercicio 3: Filtrar el DataFrame para mostrar solo las ventas realizadas por David\")\n",
    "\n",
    "ventasDavid = example[example[\"Vendedor\"] == \"David\"]\n",
    "print(ventasDavid)"
   ]
  },
  {
   "cell_type": "code",
   "execution_count": 7,
   "metadata": {},
   "outputs": [
    {
     "name": "stdout",
     "output_type": "stream",
     "text": [
      "Ejercicio 4: Calcular el promedio de ventas por región\n",
      "Region\n",
      "Central    15049.166667\n",
      "Este       10592.500000\n",
      "Oeste      14280.500000\n",
      "Name: Ventas, dtype: float64\n"
     ]
    }
   ],
   "source": [
    "# Ejercicio 4: Calcular el promedio de ventas por región\n",
    "print(\"Ejercicio 4: Calcular el promedio de ventas por región\")\n",
    "\n",
    "example[\"Ventas\"] = pd.to_numeric(example[\"Ventas\"])\n",
    "\n",
    "ventasPorProducto = example.groupby(\"Region\")[\"Ventas\"].mean()\n",
    "print(ventasPorProducto)"
   ]
  },
  {
   "cell_type": "code",
   "execution_count": 8,
   "metadata": {},
   "outputs": [
    {
     "name": "stdout",
     "output_type": "stream",
     "text": [
      "Ejercicio 5: Calcular el promedio de ventas por región con dos decimales\n",
      "Region\n",
      "Central    15049.17\n",
      "Este       10592.50\n",
      "Oeste      14280.50\n",
      "Name: Ventas, dtype: float64\n"
     ]
    }
   ],
   "source": [
    "# Ejercicio 5: Calcular el promedio de ventas por región con dos decimales\n",
    "print(\"Ejercicio 5: Calcular el promedio de ventas por región con dos decimales\")\n",
    "\n",
    "ventasPorRegion = example.groupby(\"Region\")[\"Ventas\"].mean().round(2)\n",
    "\n",
    "print(ventasPorRegion)"
   ]
  },
  {
   "cell_type": "code",
   "execution_count": 9,
   "metadata": {},
   "outputs": [
    {
     "name": "stdout",
     "output_type": "stream",
     "text": [
      "Ejercicio 6: Ordenar el DataFrame por ventas en orden descendente\n",
      "         Fecha   Region      Producto Vendedor   Ventas\n",
      "16  16/02/2024    Oeste      Sistemas    Kevin  32855.0\n",
      "5   05/02/2024  Central      Sistemas    Karen  30633.0\n",
      "17  17/02/2024    Oeste      Sistemas     Sara  23151.0\n",
      "4   04/02/2024  Central      Sistemas    David  20098.0\n",
      "10  10/02/2024     Este      Sistemas      Ana  13531.0\n",
      "11  11/02/2024     Este      Sistemas    Lucas  13374.0\n",
      "3   03/02/2024  Central  Dispositivos    Karen  12948.0\n",
      "2   02/02/2024  Central  Dispositivos    David  11420.0\n",
      "14  14/02/2024    Oeste  Dispositivos    Kevin  10711.0\n",
      "8   08/02/2024     Este  Dispositivos      Ana  10348.0\n",
      "6   06/02/2024     Este    Accesorios      Ana   9323.0\n",
      "9   09/02/2024     Este  Dispositivos    Lucas   9312.0\n",
      "15  15/02/2024    Oeste  Dispositivos     Sara   8780.0\n",
      "0   31/01/2024  Central    Accesorios    David   8287.0\n",
      "7   07/02/2024     Este    Accesorios    Lucas   7667.0\n",
      "1   01/02/2024  Central    Accesorios    Karen   6909.0\n",
      "13  13/02/2024    Oeste    Accesorios     Sara   5442.0\n",
      "12  12/02/2024    Oeste    Accesorios    Kevin   4744.0\n"
     ]
    }
   ],
   "source": [
    "# Ejercicio 6: Ordenar el DataFrame por ventas en orden descendente\n",
    "\n",
    "print(\"Ejercicio 6: Ordenar el DataFrame por ventas en orden descendente\")\n",
    "\n",
    "exampleOrdenado = example.sort_values(by=\"Ventas\", ascending=False)\n",
    "\n",
    "print(exampleOrdenado)"
   ]
  },
  {
   "cell_type": "code",
   "execution_count": 10,
   "metadata": {},
   "outputs": [
    {
     "name": "stdout",
     "output_type": "stream",
     "text": [
      "Ejercicio 7: Filtrar las filas con ventas mayores a 10000 y ordenar de mayor a menor\n",
      "         Fecha   Region      Producto Vendedor   Ventas\n",
      "8   08/02/2024     Este  Dispositivos      Ana  10348.0\n",
      "14  14/02/2024    Oeste  Dispositivos    Kevin  10711.0\n",
      "2   02/02/2024  Central  Dispositivos    David  11420.0\n",
      "3   03/02/2024  Central  Dispositivos    Karen  12948.0\n",
      "11  11/02/2024     Este      Sistemas    Lucas  13374.0\n",
      "10  10/02/2024     Este      Sistemas      Ana  13531.0\n",
      "4   04/02/2024  Central      Sistemas    David  20098.0\n",
      "17  17/02/2024    Oeste      Sistemas     Sara  23151.0\n",
      "5   05/02/2024  Central      Sistemas    Karen  30633.0\n",
      "16  16/02/2024    Oeste      Sistemas    Kevin  32855.0\n"
     ]
    }
   ],
   "source": [
    "# Ejercicio 7: Filtrar las filas con ventas mayores a 10000 y ordenar de mayor a menor\n",
    "\n",
    "print(\"Ejercicio 7: Filtrar las filas con ventas mayores a 10000 y ordenar de mayor a menor\")\n",
    "\n",
    "exampleFiltrado = example[example[\"Ventas\"] > 10000].sort_values(by=\"Ventas\", ascending=True)\n",
    "print(exampleFiltrado)\n"
   ]
  },
  {
   "cell_type": "code",
   "execution_count": 11,
   "metadata": {},
   "outputs": [
    {
     "name": "stdout",
     "output_type": "stream",
     "text": [
      "Ejercicio 8: Ordenar el DataFrame por ventas en orden ascendente\n",
      "         Fecha   Region      Producto Vendedor   Ventas\n",
      "12  12/02/2024    Oeste    Accesorios    Kevin   4744.0\n",
      "13  13/02/2024    Oeste    Accesorios     Sara   5442.0\n",
      "1   01/02/2024  Central    Accesorios    Karen   6909.0\n",
      "7   07/02/2024     Este    Accesorios    Lucas   7667.0\n",
      "0   31/01/2024  Central    Accesorios    David   8287.0\n",
      "15  15/02/2024    Oeste  Dispositivos     Sara   8780.0\n",
      "9   09/02/2024     Este  Dispositivos    Lucas   9312.0\n",
      "6   06/02/2024     Este    Accesorios      Ana   9323.0\n",
      "8   08/02/2024     Este  Dispositivos      Ana  10348.0\n",
      "14  14/02/2024    Oeste  Dispositivos    Kevin  10711.0\n",
      "2   02/02/2024  Central  Dispositivos    David  11420.0\n",
      "3   03/02/2024  Central  Dispositivos    Karen  12948.0\n",
      "11  11/02/2024     Este      Sistemas    Lucas  13374.0\n",
      "10  10/02/2024     Este      Sistemas      Ana  13531.0\n",
      "4   04/02/2024  Central      Sistemas    David  20098.0\n",
      "17  17/02/2024    Oeste      Sistemas     Sara  23151.0\n",
      "5   05/02/2024  Central      Sistemas    Karen  30633.0\n",
      "16  16/02/2024    Oeste      Sistemas    Kevin  32855.0\n"
     ]
    }
   ],
   "source": [
    "# Ejercicio 8: Ordenar el DataFrame por ventas en orden ascendente\n",
    "\n",
    "print(\"Ejercicio 8: Ordenar el DataFrame por ventas en orden ascendente\")\n",
    "\n",
    "exampleAscendent = example.sort_values(by=\"Ventas\", ascending=True)\n",
    "\n",
    "print(exampleAscendent)"
   ]
  },
  {
   "cell_type": "code",
   "execution_count": 12,
   "metadata": {},
   "outputs": [
    {
     "name": "stdout",
     "output_type": "stream",
     "text": [
      "Ejercicio 9: Eliminar la columna vendedor\n",
      "         Fecha   Region      Producto   Ventas\n",
      "0   31/01/2024  Central    Accesorios   8287.0\n",
      "1   01/02/2024  Central    Accesorios   6909.0\n",
      "2   02/02/2024  Central  Dispositivos  11420.0\n",
      "3   03/02/2024  Central  Dispositivos  12948.0\n",
      "4   04/02/2024  Central      Sistemas  20098.0\n",
      "5   05/02/2024  Central      Sistemas  30633.0\n",
      "6   06/02/2024     Este    Accesorios   9323.0\n",
      "7   07/02/2024     Este    Accesorios   7667.0\n",
      "8   08/02/2024     Este  Dispositivos  10348.0\n",
      "9   09/02/2024     Este  Dispositivos   9312.0\n",
      "10  10/02/2024     Este      Sistemas  13531.0\n",
      "11  11/02/2024     Este      Sistemas  13374.0\n",
      "12  12/02/2024    Oeste    Accesorios   4744.0\n",
      "13  13/02/2024    Oeste    Accesorios   5442.0\n",
      "14  14/02/2024    Oeste  Dispositivos  10711.0\n",
      "15  15/02/2024    Oeste  Dispositivos   8780.0\n",
      "16  16/02/2024    Oeste      Sistemas  32855.0\n",
      "17  17/02/2024    Oeste      Sistemas  23151.0\n"
     ]
    }
   ],
   "source": [
    "# Ejercicio 9: Eliminar la columna vendedor\n",
    "\n",
    "print(\"Ejercicio 9: Eliminar la columna vendedor\")\n",
    "\n",
    "exampleSinVendedor = example.drop(columns=[\"Vendedor\"])\n",
    "\n",
    "print(exampleSinVendedor)"
   ]
  }
 ],
 "metadata": {
  "kernelspec": {
   "display_name": "Python 3",
   "language": "python",
   "name": "python3"
  },
  "language_info": {
   "codemirror_mode": {
    "name": "ipython",
    "version": 3
   },
   "file_extension": ".py",
   "mimetype": "text/x-python",
   "name": "python",
   "nbconvert_exporter": "python",
   "pygments_lexer": "ipython3",
   "version": "3.11.9"
  }
 },
 "nbformat": 4,
 "nbformat_minor": 2
}
