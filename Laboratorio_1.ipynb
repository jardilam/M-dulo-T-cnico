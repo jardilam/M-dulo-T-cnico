{
 "cells": [
  {
   "cell_type": "code",
   "execution_count": 1,
   "metadata": {},
   "outputs": [],
   "source": [
    "# Importar librerías\n",
    "\n",
    "import pandas as pd\n",
    "import matplotlib.pyplot as plt\n",
    "import seaborn as sns"
   ]
  },
  {
   "cell_type": "code",
   "execution_count": 2,
   "metadata": {},
   "outputs": [],
   "source": [
    "df = pd.read_csv(\"C:/Users/USUARIO/OneDrive/Desktop/Análisis de Datos/Módulo Técnico/dataset_banco.csv\")"
   ]
  },
  {
   "cell_type": "code",
   "execution_count": 6,
   "metadata": {},
   "outputs": [
    {
     "name": "stdout",
     "output_type": "stream",
     "text": [
      "    edad        trabajo estado_civil  educacion morosidad    saldo vivienda  \\\n",
      "0     58     management      married   tertiary        no   2143.0      yes   \n",
      "1     44     technician       single  secondary        no     29.0      yes   \n",
      "2     33   entrepreneur      married  secondary        no      2.0      yes   \n",
      "3     47    blue-collar      married    unknown        no   1506.0      yes   \n",
      "4     33        unknown       single    unknown        no      1.0       no   \n",
      "5     35     management      married   tertiary        no    231.0      yes   \n",
      "6     28     Management       single   tertiary        no    447.0      yes   \n",
      "7     42   entrepreneur         div.   tertiary       yes      2.0      yes   \n",
      "8     58        retired      married    primary        no    121.0      yes   \n",
      "9     43     technician       single  secondary        no    593.0      yes   \n",
      "10    41         admin.         div.  secondary        no    270.0      yes   \n",
      "11    29         admin.       single  secondary        no    390.0      yes   \n",
      "12    53     technician      married  secondary        no      6.0      yes   \n",
      "13    58     technician      married    unknown        no     71.0      yes   \n",
      "14    57       services      married  secondary        no    162.0      yes   \n",
      "15    51        retired      married    primary        no    229.0      yes   \n",
      "16    45         admin.       single    unknown        no     13.0      yes   \n",
      "17    57    blue-collar      married    primary        no     52.0      yes   \n",
      "18    60        retired      married    primary        no     60.0      yes   \n",
      "19    33       services      married  secondary        no      0.0      yes   \n",
      "20    28    blue-collar      married  secondary        no    723.0      yes   \n",
      "21    56     management      married   tertiary        no    779.0      yes   \n",
      "22    32    blue-collar       single    primary        no     23.0      yes   \n",
      "23    25       services      married  secondary        no     50.0      yes   \n",
      "24    40        retired      married    primary        no      0.0      yes   \n",
      "25    44         admin.      married  secondary        no   -372.0      yes   \n",
      "26    39     management       single   tertiary        no    255.0      yes   \n",
      "27    52   entrepreneur      married  secondary        no    113.0      yes   \n",
      "28    46     management       single  secondary        no   -246.0      yes   \n",
      "29    36     technician       single  secondary        no    265.0      yes   \n",
      "30    57     technician      married  secondary        no    839.0       no   \n",
      "31    49     management      married   tertiary        no    378.0      yes   \n",
      "32    60         admin.      married  secondary        no     39.0      yes   \n",
      "33    59    blue-collar      married  secondary        no      0.0      yes   \n",
      "34    51     management      married   tertiary        no  10635.0      yes   \n",
      "35    57     technician     divorced  secondary        no     63.0      yes   \n",
      "36    25    blue-collar      married  secondary        no     -7.0      yes   \n",
      "37    53     technician      married  secondary        no     -3.0       no   \n",
      "38    36         admin.     divorced  secondary        no    506.0      yes   \n",
      "39    37         admin.       single  secondary        no      0.0      yes   \n",
      "40    44       services     divorced  secondary        no   2586.0      yes   \n",
      "41    50     management      married  secondary        no     49.0      yes   \n",
      "42    60    blue-collar      married    unknown        no    104.0      yes   \n",
      "43    54        retired      married  secondary        no    529.0      yes   \n",
      "44    58        retired      married    unknown        no     96.0      yes   \n",
      "45    36         admin.       single    primary        no   -171.0      yes   \n",
      "46    58  self-employed      married   tertiary        no   -364.0      yes   \n",
      "47    44     technician      married  secondary        no      0.0      yes   \n",
      "48    55     technician     divorced  secondary        no      0.0       no   \n",
      "49    29     Management       single   tertiary        no      0.0      yes   \n",
      "\n",
      "   prestamo contacto  dia  mes  duracion  campana  dias_previos  anterior  \\\n",
      "0        no  unknown    5  may     261.0        1          -1.0         0   \n",
      "1        no  unknown    5  may     151.0        1          -1.0         0   \n",
      "2       yes  unknown    5  may      76.0        1          -1.0         0   \n",
      "3        no  unknown    5  may      92.0        1          -1.0         0   \n",
      "4        no  unknown    5  may     198.0        1          -1.0         0   \n",
      "5        no  unknown    5  may     139.0        1          -1.0         0   \n",
      "6       yes  unknown    5  may     217.0        1          -1.0         0   \n",
      "7        no  unknown    5  may     380.0        1          -1.0         0   \n",
      "8        no  unknown    5  may      50.0        1          -1.0         0   \n",
      "9        No  unknown    5  may      55.0        1          -1.0         0   \n",
      "10       no  unknown    5  may     222.0        1          -1.0         0   \n",
      "11       no  unknown    5  may     137.0        1          -1.0         0   \n",
      "12       no  unknown    5  may    -517.0        1          -1.0         0   \n",
      "13       no  unknown    5  may      71.0        1          -1.0         0   \n",
      "14       No  unknown    5  may     174.0        1          -1.0         0   \n",
      "15       no  unknown    5  may     353.0        1          -1.0         0   \n",
      "16       no  unknown    5  may      98.0        1          -1.0         0   \n",
      "17       no  unknown    5  may      38.0        1          -1.0         0   \n",
      "18       no  unknown    5  may     219.0        1          -1.0         0   \n",
      "19       no  unknown    5  may      54.0        1          -1.0         0   \n",
      "20      yes  unknown    5  may     262.0        1          -1.0         0   \n",
      "21       no  unknown    5  may     164.0        1          -1.0         0   \n",
      "22      yes  unknown    5  may     160.0        1          -1.0         0   \n",
      "23       no  unknown    5  may     342.0        1          -1.0         0   \n",
      "24      yes  unknown    5  may     181.0        1          -1.0         0   \n",
      "25       no  unknown    5  may     172.0        1          -1.0         0   \n",
      "26       no  unknown    5  may     296.0        1          -1.0         0   \n",
      "27      yes  unknown    5  may     127.0        1          -1.0         0   \n",
      "28       no  unknown    5  may     255.0        2          -1.0         0   \n",
      "29      yes  unknown    5  may     348.0        1          -1.0         0   \n",
      "30      yes  unknown    5  may     225.0        1          -1.0         0   \n",
      "31       no  unknown    5  may     230.0        1          -1.0         0   \n",
      "32      yes  unknown    5  may     208.0        1          -1.0         0   \n",
      "33       no  unknown    5  may     226.0        1          -1.0         0   \n",
      "34       no  unknown    5  may     336.0        1          -1.0         0   \n",
      "35       no  unknown    5  may     242.0        1          -1.0         0   \n",
      "36       no  unknown    5  may     365.0        1          -1.0         0   \n",
      "37       no  unknown    5  may    1666.0        1          -1.0         0   \n",
      "38       no  unknown    5  may     577.0        1          -1.0         0   \n",
      "39       no  unknown    5  may     137.0        1          -1.0         0   \n",
      "40       no  unknown    5  may     160.0        1          -1.0         0   \n",
      "41       no  unknown    5  may     180.0        2          -1.0         0   \n",
      "42       no  unknown    5  may      22.0        1          -1.0         0   \n",
      "43       no  unknown    5  may    1492.0        1          -1.0         0   \n",
      "44       no  unknown    5  may     616.0        1          -1.0         0   \n",
      "45       no  unknown    5  may     242.0        1          -1.0         0   \n",
      "46       no  unknown    5  may     355.0        1          -1.0         0   \n",
      "47       no  unknown    5  may     225.0        2          -1.0         0   \n",
      "48       no  unknown    5  may     160.0        1          -1.0         0   \n",
      "49       no  unknown    5  may     363.0        1          -1.0         0   \n",
      "\n",
      "   resultado resultado  \n",
      "0    unknown        no  \n",
      "1    unknown        no  \n",
      "2    unknown        no  \n",
      "3    unknown        no  \n",
      "4    unknown        no  \n",
      "5    unknown        no  \n",
      "6    unknown        no  \n",
      "7    unknown        no  \n",
      "8    unknown        no  \n",
      "9    unknown        no  \n",
      "10   unknown        no  \n",
      "11       UNK        no  \n",
      "12   unknown        no  \n",
      "13   unknown        no  \n",
      "14   unknown        no  \n",
      "15   unknown        no  \n",
      "16   unknown        no  \n",
      "17   unknown        no  \n",
      "18   unknown        no  \n",
      "19   unknown        no  \n",
      "20   unknown        no  \n",
      "21   unknown        no  \n",
      "22   unknown        no  \n",
      "23   unknown        no  \n",
      "24   unknown        no  \n",
      "25   unknown        no  \n",
      "26   unknown        no  \n",
      "27   unknown        no  \n",
      "28   unknown        no  \n",
      "29   unknown        no  \n",
      "30   unknown        no  \n",
      "31   unknown        no  \n",
      "32   unknown        no  \n",
      "33   unknown        no  \n",
      "34   unknown        no  \n",
      "35   unknown        no  \n",
      "36   unknown        no  \n",
      "37   unknown        no  \n",
      "38   unknown        no  \n",
      "39   unknown        no  \n",
      "40   unknown        no  \n",
      "41   unknown        no  \n",
      "42   unknown        no  \n",
      "43   unknown        no  \n",
      "44   unknown        no  \n",
      "45   unknown        no  \n",
      "46   unknown        no  \n",
      "47   unknown        no  \n",
      "48   unknown        no  \n",
      "49   unknown        no  \n"
     ]
    }
   ],
   "source": [
    "data_rename = df.rename(columns={\"age\": \"edad\",\n",
    "                                 \"job\": \"trabajo\",\n",
    "                                 \"marital\": \"estado_civil\",\n",
    "                                 \"education\": \"educacion\",\n",
    "                                 \"default\": \"morosidad\",\n",
    "                                 \"balance\": \"saldo\",\n",
    "                                 \"housing\": \"vivienda\",\n",
    "                                 \"loan\": \"prestamo\",\n",
    "                                 \"contact\": \"contacto\",\n",
    "                                 \"day\": \"dia\",\n",
    "                                 \"month\": \"mes\",\n",
    "                                 \"duration\": \"duracion\",\n",
    "                                 \"campaign\": \"campana\",\n",
    "                                 \"pdays\": \"dias_previos\",\n",
    "                                 \"previous\": \"anterior\",\n",
    "                                 \"poutcome\": \"resultado\",\n",
    "                                 \"y\": \"resultado\"}) \n",
    "\n",
    "print(data_rename.head(50))"
   ]
  },
  {
   "cell_type": "code",
   "execution_count": 14,
   "metadata": {},
   "outputs": [
    {
     "name": "stdout",
     "output_type": "stream",
     "text": [
      "Index(['edad', 'trabajo', 'estado_civil', 'educacion', 'incumplimiento',\n",
      "       'saldo', 'vivienda', 'prestamo', 'contacto', 'dia', 'mes', 'duracion',\n",
      "       'campaña', 'dias_previos', 'anterior', 'resultado_prev', 'respuesta'],\n",
      "      dtype='object')\n"
     ]
    }
   ],
   "source": [
    "df.columns = [\"edad\",\n",
    "             \"trabajo\",\n",
    "             \"estado_civil\",\n",
    "             \"educacion\",\n",
    "             \"incumplimiento\",\n",
    "             \"saldo\",\n",
    "             \"vivienda\",\n",
    "             \"prestamo\",\n",
    "             \"contacto\",\n",
    "             \"dia\",\n",
    "             \"mes\",\n",
    "             \"duracion\",\n",
    "             \"campaña\",\n",
    "             \"dias_previos\",\n",
    "             \"anterior\",\n",
    "             \"resultado_prev\",\n",
    "             \"respuesta\"]\n",
    "\n",
    "print(df.columns)"
   ]
  },
  {
   "cell_type": "code",
   "execution_count": 15,
   "metadata": {},
   "outputs": [
    {
     "name": "stdout",
     "output_type": "stream",
     "text": [
      "<class 'pandas.core.frame.DataFrame'>\n",
      "RangeIndex: 45215 entries, 0 to 45214\n",
      "Data columns (total 17 columns):\n",
      " #   Column          Non-Null Count  Dtype  \n",
      "---  ------          --------------  -----  \n",
      " 0   edad            45215 non-null  int64  \n",
      " 1   trabajo         45213 non-null  object \n",
      " 2   estado_civil    45214 non-null  object \n",
      " 3   educacion       45214 non-null  object \n",
      " 4   incumplimiento  45215 non-null  object \n",
      " 5   saldo           45213 non-null  float64\n",
      " 6   vivienda        45215 non-null  object \n",
      " 7   prestamo        45215 non-null  object \n",
      " 8   contacto        45215 non-null  object \n",
      " 9   dia             45215 non-null  int64  \n",
      " 10  mes             45215 non-null  object \n",
      " 11  duracion        45214 non-null  float64\n",
      " 12  campaña         45215 non-null  int64  \n",
      " 13  dias_previos    45214 non-null  float64\n",
      " 14  anterior        45215 non-null  int64  \n",
      " 15  resultado_prev  45215 non-null  object \n",
      " 16  respuesta       45215 non-null  object \n",
      "dtypes: float64(3), int64(4), object(10)\n",
      "memory usage: 5.9+ MB\n"
     ]
    }
   ],
   "source": [
    "df.info()"
   ]
  },
  {
   "cell_type": "code",
   "execution_count": 16,
   "metadata": {},
   "outputs": [
    {
     "name": "stdout",
     "output_type": "stream",
     "text": [
      "Columnas categóricas: ['trabajo', 'estado_civil', 'educacion', 'incumplimiento', 'vivienda', 'prestamo', 'contacto', 'mes', 'resultado_prev', 'respuesta']\n",
      "Columnas numéricas: ['edad', 'saldo', 'dia', 'duracion', 'campaña', 'dias_previos', 'anterior']\n"
     ]
    }
   ],
   "source": [
    "categoricas = df.select_dtypes(include=[\"object\"]).columns.tolist()\n",
    "numericas = df.select_dtypes(include=[\"int64\", \"float64\"]).columns.tolist()\n",
    "print(\"Columnas categóricas:\", categoricas)\n",
    "print(\"Columnas numéricas:\", numericas)"
   ]
  },
  {
   "cell_type": "code",
   "execution_count": 38,
   "metadata": {},
   "outputs": [
    {
     "name": "stderr",
     "output_type": "stream",
     "text": [
      "C:\\Users\\USUARIO\\AppData\\Local\\Temp\\ipykernel_10620\\3888142606.py:1: FutureWarning: pandas.value_counts is deprecated and will be removed in a future version. Use pd.Series(obj).value_counts() instead.\n",
      "  pd.value_counts(df[\"trabajo\"])\n"
     ]
    },
    {
     "data": {
      "text/plain": [
       "trabajo\n",
       "blue-collar       9731\n",
       "management        9455\n",
       "technician        7599\n",
       "admin.            5168\n",
       "services          4153\n",
       "retired           2263\n",
       "self-employed     1578\n",
       "entrepreneur      1487\n",
       "unemployed        1303\n",
       "housemaid         1240\n",
       "student            938\n",
       "unknown            288\n",
       "administrative       3\n",
       "Management           2\n",
       "MANAGEMENT           2\n",
       "Self-employed        1\n",
       "Services             1\n",
       "Retired              1\n",
       "Name: count, dtype: int64"
      ]
     },
     "execution_count": 38,
     "metadata": {},
     "output_type": "execute_result"
    }
   ],
   "source": [
    "pd.value_counts(df[\"trabajo\"])\n",
    "\n"
   ]
  },
  {
   "cell_type": "code",
   "execution_count": 40,
   "metadata": {},
   "outputs": [
    {
     "data": {
      "text/plain": [
       "edad              0\n",
       "trabajo           2\n",
       "estado_civil      1\n",
       "educacion         1\n",
       "incumplimiento    0\n",
       "saldo             2\n",
       "vivienda          0\n",
       "prestamo          0\n",
       "contacto          0\n",
       "dia               0\n",
       "mes               0\n",
       "duracion          1\n",
       "campaña           0\n",
       "dias_previos      1\n",
       "anterior          0\n",
       "resultado_prev    0\n",
       "respuesta         0\n",
       "dtype: int64"
      ]
     },
     "execution_count": 40,
     "metadata": {},
     "output_type": "execute_result"
    }
   ],
   "source": [
    "# Contar los valores faltantes del dataframe\n",
    "\n",
    "df.isna().sum()\n"
   ]
  },
  {
   "cell_type": "code",
   "execution_count": 42,
   "metadata": {},
   "outputs": [
    {
     "data": {
      "text/plain": [
       "edad              45207\n",
       "trabajo           45207\n",
       "estado_civil      45207\n",
       "educacion         45207\n",
       "incumplimiento    45207\n",
       "saldo             45207\n",
       "vivienda          45207\n",
       "prestamo          45207\n",
       "contacto          45207\n",
       "dia               45207\n",
       "mes               45207\n",
       "duracion          45207\n",
       "campaña           45207\n",
       "dias_previos      45207\n",
       "anterior          45207\n",
       "resultado_prev    45207\n",
       "respuesta         45207\n",
       "dtype: int64"
      ]
     },
     "execution_count": 42,
     "metadata": {},
     "output_type": "execute_result"
    }
   ],
   "source": [
    "# eliminar los valores faltantes del dataframe\n",
    "df.dropna(inplace=True)\n",
    "# conteo de valores por columna del dataframe\n",
    "df.count()"
   ]
  },
  {
   "cell_type": "code",
   "execution_count": null,
   "metadata": {},
   "outputs": [],
   "source": []
  },
  {
   "cell_type": "code",
   "execution_count": 11,
   "metadata": {},
   "outputs": [],
   "source": []
  },
  {
   "cell_type": "code",
   "execution_count": null,
   "metadata": {},
   "outputs": [],
   "source": []
  }
 ],
 "metadata": {
  "kernelspec": {
   "display_name": "Python 3",
   "language": "python",
   "name": "python3"
  },
  "language_info": {
   "codemirror_mode": {
    "name": "ipython",
    "version": 3
   },
   "file_extension": ".py",
   "mimetype": "text/x-python",
   "name": "python",
   "nbconvert_exporter": "python",
   "pygments_lexer": "ipython3",
   "version": "3.11.9"
  }
 },
 "nbformat": 4,
 "nbformat_minor": 2
}
